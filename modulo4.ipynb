{
 "cells": [
  {
   "cell_type": "code",
   "execution_count": 9,
   "metadata": {},
   "outputs": [
    {
     "name": "stdout",
     "output_type": "stream",
     "text": [
      " \n",
      "On average, the Moon moves 4cm away from the Earth every year\n",
      "\n",
      " The highest daylight temperature of the Moon is 127 Celsius\n",
      "\n"
     ]
    }
   ],
   "source": [
    "text = \"\"\"Interesting facts about the Moon. The Moon is Earth's only satellite. There are several interesting facts about the Moon and how it affects life here on Earth. \n",
    "On average, the Moon moves 4cm away from the Earth every year. This yearly drift is not significant enough to cause immediate effects on Earth. The highest daylight temperature of the Moon is 127 C.\"\"\"\n",
    "nuevo = text.split(\".\")\n",
    "\n",
    "palabrasClv = [\"average\",\"temperature\",\"distance\"]\n",
    "for i in nuevo:\n",
    "    for j in palabrasClv:\n",
    "        if j in i:\n",
    "            print(i.replace(\"C\",\"Celsius\")+\"\\r\\n\")\n",
    "\n",
    "\n",
    "\n"
   ]
  },
  {
   "cell_type": "code",
   "execution_count": 18,
   "metadata": {},
   "outputs": [
    {
     "name": "stdout",
     "output_type": "stream",
     "text": [
      "\n",
      "Datos de gravedad sobre: la Luna\n",
      "------------------------------------------------------------------------\n",
      "Nombre del planeta: la Tierra\n",
      "Gravedad en la Luna: 1.6199999999999999 m/s^2\n",
      "\n"
     ]
    }
   ],
   "source": [
    "name = \"la Luna\"\n",
    "gravity = 0.00162 # in kms\n",
    "planet = \"la Tierra\"\n",
    "nuevaG = gravity *1000\n",
    "new_template = \"\"\"\n",
    "Datos de gravedad sobre: {nombre}\n",
    "------------------------------------------------------------------------\n",
    "Nombre del planeta: {planeta}\n",
    "Gravedad en {nombre}: {gravedad} m/s^2\n",
    "\"\"\"\n",
    "print (new_template.format(nombre = name,planeta = planet,gravedad=nuevaG))\n",
    "\n"
   ]
  }
 ],
 "metadata": {
  "interpreter": {
   "hash": "8b0d9d76ebb53e1e1c234f64226a8cff6a031e74cd28c8f5326276380e353cd4"
  },
  "kernelspec": {
   "display_name": "Python 3.10.2 64-bit (windows store)",
   "language": "python",
   "name": "python3"
  },
  "language_info": {
   "codemirror_mode": {
    "name": "ipython",
    "version": 3
   },
   "file_extension": ".py",
   "mimetype": "text/x-python",
   "name": "python",
   "nbconvert_exporter": "python",
   "pygments_lexer": "ipython3",
   "version": "3.10.2"
  },
  "orig_nbformat": 4
 },
 "nbformat": 4,
 "nbformat_minor": 2
}
