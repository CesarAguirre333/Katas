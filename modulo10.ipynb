{
 "cells": [
  {
   "cell_type": "code",
   "execution_count": 16,
   "metadata": {},
   "outputs": [
    {
     "name": "stdout",
     "output_type": "stream",
     "text": [
      "Reporte del combustible:\n",
      "    Promedio total: 68.66666666666667%\n",
      "    Tanque 1: 48%\n",
      "    Tanque 2: 82%\n",
      "    Tanque 3: 76%\n",
      "    \n"
     ]
    }
   ],
   "source": [
    "def prom_comb(t1,t2,t3):\n",
    "    return f\"\"\"Reporte del combustible:\n",
    "    Promedio total: {promedio(t1,t2,t3)}%\n",
    "    Tanque 1: {t1}%\n",
    "    Tanque 2: {t2}%\n",
    "    Tanque 3: {t3}%\n",
    "    \"\"\"\n",
    "   \n",
    "def promedio(*args):\n",
    "    suma = 0\n",
    "    total=0\n",
    "    for valor in args:\n",
    "        suma+=valor\n",
    "        total+=1\n",
    "    return (suma/total)\n",
    "print(prom_comb(48,82,76))\n",
    "\n"
   ]
  },
  {
   "cell_type": "code",
   "execution_count": 13,
   "metadata": {},
   "outputs": [
    {
     "name": "stdout",
     "output_type": "stream",
     "text": [
      "Hora de lanzamiento: 14\n",
      "Tiempo de vuelo: 51\n",
      "Destino: La Luna\n",
      "Tanque externo: 200000%\n",
      "Tanque interno: 300000%\n"
     ]
    }
   ],
   "source": [
    "def informe(h,t,d,te,ti):\n",
    "    texto = \"Hora de lanzamiento: \"+str(h)+\"\\r\\nTiempo de vuelo: \"+str(t)+\"\\r\\nDestino: \"+d+\"\\r\\nTanque externo: \"+str(te)+\"%\\r\\nTanque interno: \"+str(ti)+\"%\"\n",
    "    return texto\n",
    "print(informe(14,51,\"La Luna\",200000,300000))"
   ]
  },
  {
   "cell_type": "code",
   "execution_count": 32,
   "metadata": {},
   "outputs": [
    {
     "name": "stdout",
     "output_type": "stream",
     "text": [
      "Informe:\n",
      "    Destino: La Luna\n",
      "    Tiempo total: 74 mins.\n",
      "    Combustible total: 169 glls.\n",
      "    principal: 79 glls.\n",
      "secundario: 90 glls.\n",
      "\n"
     ]
    }
   ],
   "source": [
    "def informe(des,*tiempo,**tanques):\n",
    "    infoTanques = \"\"\n",
    "    for nombre,cant in tanques.items():\n",
    "        infoTanques+=f\"{nombre}: {cant} glls.\\r\\n\"\n",
    "    return f\"\"\"Informe:\n",
    "    Destino: {des}\n",
    "    Tiempo total: {sum(tiempo)} mins.\n",
    "    Combustible total: {sum(tanques.values())} glls.\n",
    "    {infoTanques}\"\"\"\n",
    "    \n",
    "print(informe(\"La Luna\",8,11,55,principal=79,secundario=90))"
   ]
  }
 ],
 "metadata": {
  "interpreter": {
   "hash": "ee9851c62bb9e30aa70b1f3e348a48d90af506bc12b8b01fecc40c5143f1fc1f"
  },
  "kernelspec": {
   "display_name": "Python 3.10.2 64-bit",
   "language": "python",
   "name": "python3"
  },
  "language_info": {
   "codemirror_mode": {
    "name": "ipython",
    "version": 3
   },
   "file_extension": ".py",
   "mimetype": "text/x-python",
   "name": "python",
   "nbconvert_exporter": "python",
   "pygments_lexer": "ipython3",
   "version": "3.10.2"
  },
  "orig_nbformat": 4
 },
 "nbformat": 4,
 "nbformat_minor": 2
}
