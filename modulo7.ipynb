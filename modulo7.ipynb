{
 "cells": [
  {
   "cell_type": "code",
   "execution_count": 9,
   "metadata": {},
   "outputs": [
    {
     "name": "stdout",
     "output_type": "stream",
     "text": [
      "Los planetas que escribiste fueron:\n",
      "-Marte\n",
      "-La Tierra\n",
      "-Neptuno\n",
      "-Venus\n"
     ]
    }
   ],
   "source": [
    "new_planet = input(\"Ingrese un planeta\")\n",
    "texto = \"Ingrese otro planeta o escriba 'listo' cuando termine\"\n",
    "planets = []\n",
    "while(new_planet.lower() != \"listo\"):\n",
    "    if new_planet != \"\":\n",
    "         planets.append(new_planet)\n",
    "    else:\n",
    "        texto = \"Ingrese un planeta o escriba 'listo' cuando termine\"\n",
    "    new_planet = input(texto)\n",
    "\n",
    "print(\"Los planetas que escribiste fueron:\")\n",
    "for planet in planets:\n",
    "    print(\"-\"+planet)"
   ]
  }
 ],
 "metadata": {
  "interpreter": {
   "hash": "ee9851c62bb9e30aa70b1f3e348a48d90af506bc12b8b01fecc40c5143f1fc1f"
  },
  "kernelspec": {
   "display_name": "Python 3.10.2 64-bit",
   "language": "python",
   "name": "python3"
  },
  "language_info": {
   "codemirror_mode": {
    "name": "ipython",
    "version": 3
   },
   "file_extension": ".py",
   "mimetype": "text/x-python",
   "name": "python",
   "nbconvert_exporter": "python",
   "pygments_lexer": "ipython3",
   "version": "3.10.2"
  },
  "orig_nbformat": 4
 },
 "nbformat": 4,
 "nbformat_minor": 2
}
