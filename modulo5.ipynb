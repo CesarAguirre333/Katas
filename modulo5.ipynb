{
 "cells": [
  {
   "cell_type": "code",
   "execution_count": 7,
   "metadata": {},
   "outputs": [
    {
     "name": "stdout",
     "output_type": "stream",
     "text": [
      "628949330\n",
      "Resultado en millas:\n",
      "390577533.93\n"
     ]
    }
   ],
   "source": [
    "distTierra = 149597870 \n",
    "distJup = 778547200\n",
    "dist = abs(distTierra-distJup)\n",
    "print(dist)\n",
    "print(\"Resultado en millas:\")\n",
    "print(dist*0.621)"
   ]
  },
  {
   "cell_type": "code",
   "execution_count": 2,
   "metadata": {},
   "outputs": [
    {
     "name": "stdout",
     "output_type": "stream",
     "text": [
      "Distancia entre los planetas:\n",
      "20\n",
      "Valor en millas:\n",
      "12.42\n"
     ]
    }
   ],
   "source": [
    "p1 = input(\"Valor del planeta 1:\")\n",
    "p2 = input(\"Valor del planeta 2:\")\n",
    "p1 = int(p1)\n",
    "p2 = int(p2)\n",
    "valor = abs(p1-p2)\n",
    "print(\"Distancia entre los planetas:\")\n",
    "print(valor)\n",
    "print(\"Valor en millas:\")\n",
    "print(valor*0.621)"
   ]
  }
 ],
 "metadata": {
  "interpreter": {
   "hash": "ee9851c62bb9e30aa70b1f3e348a48d90af506bc12b8b01fecc40c5143f1fc1f"
  },
  "kernelspec": {
   "display_name": "Python 3.10.2 64-bit",
   "language": "python",
   "name": "python3"
  },
  "language_info": {
   "codemirror_mode": {
    "name": "ipython",
    "version": 3
   },
   "file_extension": ".py",
   "mimetype": "text/x-python",
   "name": "python",
   "nbconvert_exporter": "python",
   "pygments_lexer": "ipython3",
   "version": "3.10.2"
  },
  "orig_nbformat": 4
 },
 "nbformat": 4,
 "nbformat_minor": 2
}
