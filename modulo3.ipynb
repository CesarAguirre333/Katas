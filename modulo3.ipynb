{
 "cells": [
  {
   "cell_type": "code",
   "execution_count": 1,
   "metadata": {},
   "outputs": [
    {
     "name": "stdout",
     "output_type": "stream",
     "text": [
      "No se apreció ningún rayo\n"
     ]
    }
   ],
   "source": [
    "velAsteroide = 19\n",
    "if velAsteroide >= 20:\n",
    "    print(\"Se apreció un rayo\")\n",
    "else:\n",
    "    print(\"No se apreció ningún rayo\")"
   ]
  },
  {
   "cell_type": "code",
   "execution_count": 2,
   "metadata": {},
   "outputs": [
    {
     "name": "stdout",
     "output_type": "stream",
     "text": [
      "Estamos fritos\n"
     ]
    }
   ],
   "source": [
    "velAst = 20\n",
    "if velAst >= 20:\n",
    "    print(\"Se apreció un rayo de luz\") \n",
    "else:\n",
    "    print(\"Todo bien no se preocupen\")"
   ]
  },
  {
   "cell_type": "code",
   "execution_count": 6,
   "metadata": {},
   "outputs": [
    {
     "name": "stdout",
     "output_type": "stream",
     "text": [
      "Estamos a salvo\n"
     ]
    }
   ],
   "source": [
    "velAst = 19\n",
    "tamAst = 26\n",
    "if velAst > 25 and tamAst > 25:\n",
    "    print(\"¡Estamos en peligro!\")\n",
    "elif velAst >= 20:\n",
    "    print(\"Miren el rayo de luz\")\n",
    "else:\n",
    "    print(\"Estamos a salvo\")"
   ]
  }
 ],
 "metadata": {
  "interpreter": {
   "hash": "ee9851c62bb9e30aa70b1f3e348a48d90af506bc12b8b01fecc40c5143f1fc1f"
  },
  "kernelspec": {
   "display_name": "Python 3.10.2 64-bit",
   "language": "python",
   "name": "python3"
  },
  "language_info": {
   "codemirror_mode": {
    "name": "ipython",
    "version": 3
   },
   "file_extension": ".py",
   "mimetype": "text/x-python",
   "name": "python",
   "nbconvert_exporter": "python",
   "pygments_lexer": "ipython3",
   "version": "3.10.2"
  },
  "orig_nbformat": 4
 },
 "nbformat": 4,
 "nbformat_minor": 2
}
