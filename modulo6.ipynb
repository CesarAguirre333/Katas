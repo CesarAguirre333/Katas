{
 "cells": [
  {
   "cell_type": "code",
   "execution_count": 5,
   "metadata": {},
   "outputs": [
    {
     "name": "stdout",
     "output_type": "stream",
     "text": [
      "9\n",
      "Plutón\n"
     ]
    }
   ],
   "source": [
    "planets = [\"Mercurio\",\"Venus\",\"Tierra\",\"Marte\",\"Júpiter\",\"Saturno\",\"Urano\",\"Neptuno\"]\n",
    "planets.append(\"Plutón\")\n",
    "print(len(planets))\n",
    "print(planets[-1])"
   ]
  },
  {
   "cell_type": "code",
   "execution_count": 20,
   "metadata": {},
   "outputs": [
    {
     "name": "stdout",
     "output_type": "stream",
     "text": [
      "Los planetas más cercas de Venus son Earth y Mercury\n",
      "Los planetas más cerca del sol que Venus son:\n",
      "['Mercury']\n",
      "Los planetas más lejos del sol que Venus son:\n",
      "['Earth', 'Mars', 'Jupiter', 'Saturn']\n"
     ]
    }
   ],
   "source": [
    "planets = ['Mercury', 'Venus', 'Earth', 'Mars', 'Jupiter', 'Saturn', 'Neptune']\n",
    "nombre = input(\"Ingresa el nombre de un planeta iniciando con mayúscula\")\n",
    "\n",
    "idx = planets.index(nombre)\n",
    "if idx > 0:\n",
    "    if idx == planets.index(planets[-1]):\n",
    "        print(\"El planeta más cercano es \"+planets[idx-1])\n",
    "    else:\n",
    "        print(\"Los planetas más cercas de \"+nombre+\" son \"+planets[idx+1]+\" y \"+planets[idx-1])\n",
    "else:\n",
    "    print(\"El planeta más cercano es \"+planets[idx+1])\n",
    "\n",
    "print(\"Los planetas más cerca del sol que \"+nombre+\" son:\")\n",
    "print(planets[0:idx])\n",
    "print(\"Los planetas más lejos del sol que \"+nombre+\" son:\")\n",
    "print(planets[idx+1:-1])\n",
    "    "
   ]
  }
 ],
 "metadata": {
  "interpreter": {
   "hash": "ee9851c62bb9e30aa70b1f3e348a48d90af506bc12b8b01fecc40c5143f1fc1f"
  },
  "kernelspec": {
   "display_name": "Python 3.10.2 64-bit",
   "language": "python",
   "name": "python3"
  },
  "language_info": {
   "codemirror_mode": {
    "name": "ipython",
    "version": 3
   },
   "file_extension": ".py",
   "mimetype": "text/x-python",
   "name": "python",
   "nbconvert_exporter": "python",
   "pygments_lexer": "ipython3",
   "version": "3.10.2"
  },
  "orig_nbformat": 4
 },
 "nbformat": 4,
 "nbformat_minor": 2
}
